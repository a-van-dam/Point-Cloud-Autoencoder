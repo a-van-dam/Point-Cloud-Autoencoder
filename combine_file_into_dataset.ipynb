{
 "cells": [
  {
   "cell_type": "code",
   "execution_count": 1,
   "metadata": {},
   "outputs": [],
   "source": [
    "import numpy as np\n",
    "import os"
   ]
  },
  {
   "cell_type": "code",
   "execution_count": 2,
   "metadata": {},
   "outputs": [],
   "source": [
    "geotype = \"pointcloud\""
   ]
  },
  {
   "cell_type": "code",
   "execution_count": 3,
   "metadata": {},
   "outputs": [],
   "source": [
    "numpy_folder_path = r\"/media/adam/HDD_2/Datasets/NURBS_Geometry/IJAC/helix_surface_v1/point_cloud/singel_files\"\n",
    "save_folder = r\"/media/adam/HDD_2/Datasets/NURBS_Geometry/IJAC/helix_surface_v1/point_cloud\"\n",
    "\n",
    "save_name = \"helix_surface_v1_NURBS_.npy\""
   ]
  },
  {
   "cell_type": "code",
   "execution_count": 4,
   "metadata": {},
   "outputs": [
    {
     "name": "stdout",
     "output_type": "stream",
     "text": [
      "Numpy array new shape: (4898, 1000, 3)\n"
     ]
    }
   ],
   "source": [
    "# needed shape: BATCH_SIZE_number_of_points_3\n",
    "\n",
    "# List to store individual numpy arrays\n",
    "numpy_arrays = []\n",
    "\n",
    "# Iterate through the files in the numpy_folder_path\n",
    "for file_name in os.listdir(numpy_folder_path):\n",
    "    if file_name.endswith('.npy'):\n",
    "        file_path = os.path.join(numpy_folder_path, file_name)\n",
    "        numpy_arrays.append(np.load(file_path))\n",
    "\n",
    "# Combine all numpy arrays into a single 3D numpy array by adding an extra axis\n",
    "combined_array = np.stack(numpy_arrays, axis=0)\n",
    "\n",
    "if geotype == \"pointcloud\":\n",
    "#swap the midle and last axis\n",
    "    combined_array = np.swapaxes(combined_array, 1, 2)\n",
    "\n",
    "if geotype == \"surface\":\n",
    "    #swap the midle and last axis\n",
    "    print(f\"Before swap: {combined_array.shape}\")\n",
    "    uv_count = combined_array.shape[-1]\n",
    "    combined_array = combined_array.reshape(-1, uv_count*uv_count, 3)\n",
    "    #print(f\"After swap: {combined_array.shape}\")\n",
    "\n",
    "print(f\"Numpy array new shape: {combined_array.shape}\")\n",
    "\n"
   ]
  },
  {
   "cell_type": "code",
   "execution_count": 5,
   "metadata": {},
   "outputs": [
    {
     "name": "stdout",
     "output_type": "stream",
     "text": [
      "Combined array saved to /media/adam/HDD_2/Datasets/NURBS_Geometry/IJAC/helix_surface_v1/point_cloud/helix_surface_v1_NURBS_.npy\n"
     ]
    }
   ],
   "source": [
    "# Save the combined array to the save_folder\n",
    "combined_array_path = os.path.join(save_folder, save_name)\n",
    "\n",
    "np.save(combined_array_path, combined_array)\n",
    "\n",
    "print(f\"Combined array saved to {combined_array_path}\")"
   ]
  }
 ],
 "metadata": {
  "kernelspec": {
   "display_name": "pytorch3d_new",
   "language": "python",
   "name": "python3"
  },
  "language_info": {
   "codemirror_mode": {
    "name": "ipython",
    "version": 3
   },
   "file_extension": ".py",
   "mimetype": "text/x-python",
   "name": "python",
   "nbconvert_exporter": "python",
   "pygments_lexer": "ipython3",
   "version": "3.8.20"
  }
 },
 "nbformat": 4,
 "nbformat_minor": 2
}
