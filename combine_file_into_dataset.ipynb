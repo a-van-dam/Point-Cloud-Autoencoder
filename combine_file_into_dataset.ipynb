{
 "cells": [
  {
   "cell_type": "code",
   "execution_count": 1,
   "metadata": {},
   "outputs": [],
   "source": [
    "import numpy as np\n",
    "import os"
   ]
  },
  {
   "cell_type": "code",
   "execution_count": 11,
   "metadata": {},
   "outputs": [],
   "source": [
    "numpy_folder_path = r\"/media/adam/HDD_2/Datasets/NURBS_Geometry/IJAC/surface_v1/PointCloud/single_files\"\n",
    "save_folder = r\"/media/adam/HDD_2/Datasets/NURBS_Geometry/IJAC/surface_v1/PointCloud/\"\n",
    "\n",
    "save_name = \"surface_v1_point_cloud_All.npy\""
   ]
  },
  {
   "cell_type": "code",
   "execution_count": 12,
   "metadata": {},
   "outputs": [
    {
     "name": "stdout",
     "output_type": "stream",
     "text": [
      "Numpy array new shape: (5000, 1000, 3)\n"
     ]
    }
   ],
   "source": [
    "\n",
    "# List to store individual numpy arrays\n",
    "numpy_arrays = []\n",
    "\n",
    "# Iterate through the files in the numpy_folder_path\n",
    "for file_name in os.listdir(numpy_folder_path):\n",
    "    if file_name.endswith('.npy'):\n",
    "        file_path = os.path.join(numpy_folder_path, file_name)\n",
    "        numpy_arrays.append(np.load(file_path))\n",
    "\n",
    "# Combine all numpy arrays into a single 3D numpy array by adding an extra axis\n",
    "combined_array = np.stack(numpy_arrays, axis=0)\n",
    "\n",
    "#swap the midle and last axis\n",
    "combined_array = np.swapaxes(combined_array, 1, 2)\n",
    "\n",
    "print(f\"Numpy array new shape: {combined_array.shape}\")"
   ]
  },
  {
   "cell_type": "code",
   "execution_count": 13,
   "metadata": {},
   "outputs": [
    {
     "name": "stdout",
     "output_type": "stream",
     "text": [
      "Combined array saved to /media/adam/HDD_2/Datasets/NURBS_Geometry/IJAC/surface_v1/PointCloud/surface_v1_point_cloud_All.npy\n"
     ]
    }
   ],
   "source": [
    "# Save the combined array to the save_folder\n",
    "combined_array_path = os.path.join(save_folder, save_name)\n",
    "\n",
    "np.save(combined_array_path, combined_array)\n",
    "\n",
    "print(f\"Combined array saved to {combined_array_path}\")"
   ]
  }
 ],
 "metadata": {
  "kernelspec": {
   "display_name": "pytorch3d",
   "language": "python",
   "name": "python3"
  },
  "language_info": {
   "codemirror_mode": {
    "name": "ipython",
    "version": 3
   },
   "file_extension": ".py",
   "mimetype": "text/x-python",
   "name": "python",
   "nbconvert_exporter": "python",
   "pygments_lexer": "ipython3",
   "version": "3.9.19"
  }
 },
 "nbformat": 4,
 "nbformat_minor": 2
}
